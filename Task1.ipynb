{
 "cells": [
  {
   "cell_type": "markdown",
   "id": "fdcb6c7e",
   "metadata": {},
   "source": [
    "# TASK - 01"
   ]
  },
  {
   "cell_type": "markdown",
   "id": "6ddf69ad",
   "metadata": {},
   "source": [
    "## Create a bar chart or histogram to visualize the distribution of a categorical or continuous variable, such as the distribution of ages or genders in a population."
   ]
  },
  {
   "cell_type": "markdown",
   "id": "e083ea4b",
   "metadata": {},
   "source": [
    "## Import All Libraries"
   ]
  },
  {
   "cell_type": "code",
   "execution_count": 1,
   "id": "aecd5fe0",
   "metadata": {},
   "outputs": [],
   "source": [
    "import numpy as np\n",
    "import pandas as pd\n",
    "import seaborn as sns\n",
    "import matplotlib.pyplot as plt\n",
    "%matplotlib inline\n",
    "\n",
    "import warnings\n",
    "warnings.filterwarnings(\"ignore\")"
   ]
  },
  {
   "cell_type": "markdown",
   "id": "dd8e0a02",
   "metadata": {},
   "source": [
    "## Read The Dataset"
   ]
  },
  {
   "cell_type": "code",
   "execution_count": 2,
   "id": "f79e5749",
   "metadata": {},
   "outputs": [
    {
     "data": {
      "text/html": [
       "<div>\n",
       "<style scoped>\n",
       "    .dataframe tbody tr th:only-of-type {\n",
       "        vertical-align: middle;\n",
       "    }\n",
       "\n",
       "    .dataframe tbody tr th {\n",
       "        vertical-align: top;\n",
       "    }\n",
       "\n",
       "    .dataframe thead th {\n",
       "        text-align: right;\n",
       "    }\n",
       "</style>\n",
       "<table border=\"1\" class=\"dataframe\">\n",
       "  <thead>\n",
       "    <tr style=\"text-align: right;\">\n",
       "      <th></th>\n",
       "      <th>Country Name</th>\n",
       "      <th>Country Code</th>\n",
       "      <th>Indicator Name</th>\n",
       "      <th>Indicator Code</th>\n",
       "      <th>1960</th>\n",
       "      <th>1961</th>\n",
       "      <th>1962</th>\n",
       "      <th>1963</th>\n",
       "      <th>1964</th>\n",
       "      <th>1965</th>\n",
       "      <th>...</th>\n",
       "      <th>2011</th>\n",
       "      <th>2012</th>\n",
       "      <th>2013</th>\n",
       "      <th>2014</th>\n",
       "      <th>2015</th>\n",
       "      <th>2016</th>\n",
       "      <th>2017</th>\n",
       "      <th>2018</th>\n",
       "      <th>2019</th>\n",
       "      <th>2020</th>\n",
       "    </tr>\n",
       "  </thead>\n",
       "  <tbody>\n",
       "    <tr>\n",
       "      <th>0</th>\n",
       "      <td>Aruba</td>\n",
       "      <td>ABW</td>\n",
       "      <td>Population, total</td>\n",
       "      <td>SP.POP.TOTL</td>\n",
       "      <td>54208.0</td>\n",
       "      <td>55434.0</td>\n",
       "      <td>56234.0</td>\n",
       "      <td>56699.0</td>\n",
       "      <td>57029.0</td>\n",
       "      <td>57357.0</td>\n",
       "      <td>...</td>\n",
       "      <td>102050.0</td>\n",
       "      <td>102565.0</td>\n",
       "      <td>103165.0</td>\n",
       "      <td>103776.0</td>\n",
       "      <td>104339.0</td>\n",
       "      <td>104865.0</td>\n",
       "      <td>105361.0</td>\n",
       "      <td>105846.0</td>\n",
       "      <td>106310.0</td>\n",
       "      <td>106766.0</td>\n",
       "    </tr>\n",
       "    <tr>\n",
       "      <th>1</th>\n",
       "      <td>Africa Eastern and Southern</td>\n",
       "      <td>AFE</td>\n",
       "      <td>Population, total</td>\n",
       "      <td>SP.POP.TOTL</td>\n",
       "      <td>130836765.0</td>\n",
       "      <td>134159786.0</td>\n",
       "      <td>137614644.0</td>\n",
       "      <td>141202036.0</td>\n",
       "      <td>144920186.0</td>\n",
       "      <td>148769974.0</td>\n",
       "      <td>...</td>\n",
       "      <td>532760424.0</td>\n",
       "      <td>547482863.0</td>\n",
       "      <td>562601578.0</td>\n",
       "      <td>578075373.0</td>\n",
       "      <td>593871847.0</td>\n",
       "      <td>609978946.0</td>\n",
       "      <td>626392880.0</td>\n",
       "      <td>643090131.0</td>\n",
       "      <td>660046272.0</td>\n",
       "      <td>677243299.0</td>\n",
       "    </tr>\n",
       "    <tr>\n",
       "      <th>2</th>\n",
       "      <td>Afghanistan</td>\n",
       "      <td>AFG</td>\n",
       "      <td>Population, total</td>\n",
       "      <td>SP.POP.TOTL</td>\n",
       "      <td>8996967.0</td>\n",
       "      <td>9169406.0</td>\n",
       "      <td>9351442.0</td>\n",
       "      <td>9543200.0</td>\n",
       "      <td>9744772.0</td>\n",
       "      <td>9956318.0</td>\n",
       "      <td>...</td>\n",
       "      <td>30117411.0</td>\n",
       "      <td>31161378.0</td>\n",
       "      <td>32269592.0</td>\n",
       "      <td>33370804.0</td>\n",
       "      <td>34413603.0</td>\n",
       "      <td>35383028.0</td>\n",
       "      <td>36296111.0</td>\n",
       "      <td>37171922.0</td>\n",
       "      <td>38041757.0</td>\n",
       "      <td>38928341.0</td>\n",
       "    </tr>\n",
       "    <tr>\n",
       "      <th>3</th>\n",
       "      <td>Africa Western and Central</td>\n",
       "      <td>AFW</td>\n",
       "      <td>Population, total</td>\n",
       "      <td>SP.POP.TOTL</td>\n",
       "      <td>96396419.0</td>\n",
       "      <td>98407221.0</td>\n",
       "      <td>100506960.0</td>\n",
       "      <td>102691339.0</td>\n",
       "      <td>104953470.0</td>\n",
       "      <td>107289875.0</td>\n",
       "      <td>...</td>\n",
       "      <td>360285439.0</td>\n",
       "      <td>370243017.0</td>\n",
       "      <td>380437896.0</td>\n",
       "      <td>390882979.0</td>\n",
       "      <td>401586651.0</td>\n",
       "      <td>412551299.0</td>\n",
       "      <td>423769930.0</td>\n",
       "      <td>435229381.0</td>\n",
       "      <td>446911598.0</td>\n",
       "      <td>458803476.0</td>\n",
       "    </tr>\n",
       "    <tr>\n",
       "      <th>4</th>\n",
       "      <td>Angola</td>\n",
       "      <td>AGO</td>\n",
       "      <td>Population, total</td>\n",
       "      <td>SP.POP.TOTL</td>\n",
       "      <td>5454938.0</td>\n",
       "      <td>5531451.0</td>\n",
       "      <td>5608499.0</td>\n",
       "      <td>5679409.0</td>\n",
       "      <td>5734995.0</td>\n",
       "      <td>5770573.0</td>\n",
       "      <td>...</td>\n",
       "      <td>24220660.0</td>\n",
       "      <td>25107925.0</td>\n",
       "      <td>26015786.0</td>\n",
       "      <td>26941773.0</td>\n",
       "      <td>27884380.0</td>\n",
       "      <td>28842482.0</td>\n",
       "      <td>29816769.0</td>\n",
       "      <td>30809787.0</td>\n",
       "      <td>31825299.0</td>\n",
       "      <td>32866268.0</td>\n",
       "    </tr>\n",
       "    <tr>\n",
       "      <th>...</th>\n",
       "      <td>...</td>\n",
       "      <td>...</td>\n",
       "      <td>...</td>\n",
       "      <td>...</td>\n",
       "      <td>...</td>\n",
       "      <td>...</td>\n",
       "      <td>...</td>\n",
       "      <td>...</td>\n",
       "      <td>...</td>\n",
       "      <td>...</td>\n",
       "      <td>...</td>\n",
       "      <td>...</td>\n",
       "      <td>...</td>\n",
       "      <td>...</td>\n",
       "      <td>...</td>\n",
       "      <td>...</td>\n",
       "      <td>...</td>\n",
       "      <td>...</td>\n",
       "      <td>...</td>\n",
       "      <td>...</td>\n",
       "      <td>...</td>\n",
       "    </tr>\n",
       "    <tr>\n",
       "      <th>261</th>\n",
       "      <td>Kosovo</td>\n",
       "      <td>XKX</td>\n",
       "      <td>Population, total</td>\n",
       "      <td>SP.POP.TOTL</td>\n",
       "      <td>947000.0</td>\n",
       "      <td>966000.0</td>\n",
       "      <td>994000.0</td>\n",
       "      <td>1022000.0</td>\n",
       "      <td>1050000.0</td>\n",
       "      <td>1078000.0</td>\n",
       "      <td>...</td>\n",
       "      <td>1791000.0</td>\n",
       "      <td>1807106.0</td>\n",
       "      <td>1818117.0</td>\n",
       "      <td>1812771.0</td>\n",
       "      <td>1788196.0</td>\n",
       "      <td>1777557.0</td>\n",
       "      <td>1791003.0</td>\n",
       "      <td>1797085.0</td>\n",
       "      <td>1788878.0</td>\n",
       "      <td>1775378.0</td>\n",
       "    </tr>\n",
       "    <tr>\n",
       "      <th>262</th>\n",
       "      <td>Yemen, Rep.</td>\n",
       "      <td>YEM</td>\n",
       "      <td>Population, total</td>\n",
       "      <td>SP.POP.TOTL</td>\n",
       "      <td>5315351.0</td>\n",
       "      <td>5393034.0</td>\n",
       "      <td>5473671.0</td>\n",
       "      <td>5556767.0</td>\n",
       "      <td>5641598.0</td>\n",
       "      <td>5727745.0</td>\n",
       "      <td>...</td>\n",
       "      <td>23807586.0</td>\n",
       "      <td>24473176.0</td>\n",
       "      <td>25147112.0</td>\n",
       "      <td>25823488.0</td>\n",
       "      <td>26497881.0</td>\n",
       "      <td>27168210.0</td>\n",
       "      <td>27834811.0</td>\n",
       "      <td>28498683.0</td>\n",
       "      <td>29161922.0</td>\n",
       "      <td>29825968.0</td>\n",
       "    </tr>\n",
       "    <tr>\n",
       "      <th>263</th>\n",
       "      <td>South Africa</td>\n",
       "      <td>ZAF</td>\n",
       "      <td>Population, total</td>\n",
       "      <td>SP.POP.TOTL</td>\n",
       "      <td>17099836.0</td>\n",
       "      <td>17524533.0</td>\n",
       "      <td>17965733.0</td>\n",
       "      <td>18423157.0</td>\n",
       "      <td>18896303.0</td>\n",
       "      <td>19384838.0</td>\n",
       "      <td>...</td>\n",
       "      <td>52003759.0</td>\n",
       "      <td>52832659.0</td>\n",
       "      <td>53687125.0</td>\n",
       "      <td>54544184.0</td>\n",
       "      <td>55386369.0</td>\n",
       "      <td>56207649.0</td>\n",
       "      <td>57009751.0</td>\n",
       "      <td>57792520.0</td>\n",
       "      <td>58558267.0</td>\n",
       "      <td>59308690.0</td>\n",
       "    </tr>\n",
       "    <tr>\n",
       "      <th>264</th>\n",
       "      <td>Zambia</td>\n",
       "      <td>ZMB</td>\n",
       "      <td>Population, total</td>\n",
       "      <td>SP.POP.TOTL</td>\n",
       "      <td>3070780.0</td>\n",
       "      <td>3164330.0</td>\n",
       "      <td>3260645.0</td>\n",
       "      <td>3360099.0</td>\n",
       "      <td>3463211.0</td>\n",
       "      <td>3570466.0</td>\n",
       "      <td>...</td>\n",
       "      <td>14023199.0</td>\n",
       "      <td>14465148.0</td>\n",
       "      <td>14926551.0</td>\n",
       "      <td>15399793.0</td>\n",
       "      <td>15879370.0</td>\n",
       "      <td>16363449.0</td>\n",
       "      <td>16853608.0</td>\n",
       "      <td>17351714.0</td>\n",
       "      <td>17861034.0</td>\n",
       "      <td>18383956.0</td>\n",
       "    </tr>\n",
       "    <tr>\n",
       "      <th>265</th>\n",
       "      <td>Zimbabwe</td>\n",
       "      <td>ZWE</td>\n",
       "      <td>Population, total</td>\n",
       "      <td>SP.POP.TOTL</td>\n",
       "      <td>3776679.0</td>\n",
       "      <td>3905038.0</td>\n",
       "      <td>4039209.0</td>\n",
       "      <td>4178726.0</td>\n",
       "      <td>4322854.0</td>\n",
       "      <td>4471178.0</td>\n",
       "      <td>...</td>\n",
       "      <td>12894323.0</td>\n",
       "      <td>13115149.0</td>\n",
       "      <td>13350378.0</td>\n",
       "      <td>13586710.0</td>\n",
       "      <td>13814642.0</td>\n",
       "      <td>14030338.0</td>\n",
       "      <td>14236599.0</td>\n",
       "      <td>14438812.0</td>\n",
       "      <td>14645473.0</td>\n",
       "      <td>14862927.0</td>\n",
       "    </tr>\n",
       "  </tbody>\n",
       "</table>\n",
       "<p>266 rows × 65 columns</p>\n",
       "</div>"
      ],
      "text/plain": [
       "                    Country Name Country Code     Indicator Name  \\\n",
       "0                          Aruba          ABW  Population, total   \n",
       "1    Africa Eastern and Southern          AFE  Population, total   \n",
       "2                    Afghanistan          AFG  Population, total   \n",
       "3     Africa Western and Central          AFW  Population, total   \n",
       "4                         Angola          AGO  Population, total   \n",
       "..                           ...          ...                ...   \n",
       "261                       Kosovo          XKX  Population, total   \n",
       "262                  Yemen, Rep.          YEM  Population, total   \n",
       "263                 South Africa          ZAF  Population, total   \n",
       "264                       Zambia          ZMB  Population, total   \n",
       "265                     Zimbabwe          ZWE  Population, total   \n",
       "\n",
       "    Indicator Code         1960         1961         1962         1963  \\\n",
       "0      SP.POP.TOTL      54208.0      55434.0      56234.0      56699.0   \n",
       "1      SP.POP.TOTL  130836765.0  134159786.0  137614644.0  141202036.0   \n",
       "2      SP.POP.TOTL    8996967.0    9169406.0    9351442.0    9543200.0   \n",
       "3      SP.POP.TOTL   96396419.0   98407221.0  100506960.0  102691339.0   \n",
       "4      SP.POP.TOTL    5454938.0    5531451.0    5608499.0    5679409.0   \n",
       "..             ...          ...          ...          ...          ...   \n",
       "261    SP.POP.TOTL     947000.0     966000.0     994000.0    1022000.0   \n",
       "262    SP.POP.TOTL    5315351.0    5393034.0    5473671.0    5556767.0   \n",
       "263    SP.POP.TOTL   17099836.0   17524533.0   17965733.0   18423157.0   \n",
       "264    SP.POP.TOTL    3070780.0    3164330.0    3260645.0    3360099.0   \n",
       "265    SP.POP.TOTL    3776679.0    3905038.0    4039209.0    4178726.0   \n",
       "\n",
       "            1964         1965  ...         2011         2012         2013  \\\n",
       "0        57029.0      57357.0  ...     102050.0     102565.0     103165.0   \n",
       "1    144920186.0  148769974.0  ...  532760424.0  547482863.0  562601578.0   \n",
       "2      9744772.0    9956318.0  ...   30117411.0   31161378.0   32269592.0   \n",
       "3    104953470.0  107289875.0  ...  360285439.0  370243017.0  380437896.0   \n",
       "4      5734995.0    5770573.0  ...   24220660.0   25107925.0   26015786.0   \n",
       "..           ...          ...  ...          ...          ...          ...   \n",
       "261    1050000.0    1078000.0  ...    1791000.0    1807106.0    1818117.0   \n",
       "262    5641598.0    5727745.0  ...   23807586.0   24473176.0   25147112.0   \n",
       "263   18896303.0   19384838.0  ...   52003759.0   52832659.0   53687125.0   \n",
       "264    3463211.0    3570466.0  ...   14023199.0   14465148.0   14926551.0   \n",
       "265    4322854.0    4471178.0  ...   12894323.0   13115149.0   13350378.0   \n",
       "\n",
       "            2014         2015         2016         2017         2018  \\\n",
       "0       103776.0     104339.0     104865.0     105361.0     105846.0   \n",
       "1    578075373.0  593871847.0  609978946.0  626392880.0  643090131.0   \n",
       "2     33370804.0   34413603.0   35383028.0   36296111.0   37171922.0   \n",
       "3    390882979.0  401586651.0  412551299.0  423769930.0  435229381.0   \n",
       "4     26941773.0   27884380.0   28842482.0   29816769.0   30809787.0   \n",
       "..           ...          ...          ...          ...          ...   \n",
       "261    1812771.0    1788196.0    1777557.0    1791003.0    1797085.0   \n",
       "262   25823488.0   26497881.0   27168210.0   27834811.0   28498683.0   \n",
       "263   54544184.0   55386369.0   56207649.0   57009751.0   57792520.0   \n",
       "264   15399793.0   15879370.0   16363449.0   16853608.0   17351714.0   \n",
       "265   13586710.0   13814642.0   14030338.0   14236599.0   14438812.0   \n",
       "\n",
       "            2019         2020  \n",
       "0       106310.0     106766.0  \n",
       "1    660046272.0  677243299.0  \n",
       "2     38041757.0   38928341.0  \n",
       "3    446911598.0  458803476.0  \n",
       "4     31825299.0   32866268.0  \n",
       "..           ...          ...  \n",
       "261    1788878.0    1775378.0  \n",
       "262   29161922.0   29825968.0  \n",
       "263   58558267.0   59308690.0  \n",
       "264   17861034.0   18383956.0  \n",
       "265   14645473.0   14862927.0  \n",
       "\n",
       "[266 rows x 65 columns]"
      ]
     },
     "execution_count": 2,
     "metadata": {},
     "output_type": "execute_result"
    }
   ],
   "source": [
    "df = pd.read_csv(\"API_SP.POP.TOTL_DS2_en_csv_v2_2763937.csv\")\n",
    "df"
   ]
  },
  {
   "cell_type": "markdown",
   "id": "0b605ee7",
   "metadata": {},
   "source": [
    "## Show The Columns"
   ]
  },
  {
   "cell_type": "code",
   "execution_count": 3,
   "id": "14310a01",
   "metadata": {},
   "outputs": [
    {
     "data": {
      "text/plain": [
       "Index(['Country Name', 'Country Code', 'Indicator Name', 'Indicator Code',\n",
       "       '1960', '1961', '1962', '1963', '1964', '1965', '1966', '1967', '1968',\n",
       "       '1969', '1970', '1971', '1972', '1973', '1974', '1975', '1976', '1977',\n",
       "       '1978', '1979', '1980', '1981', '1982', '1983', '1984', '1985', '1986',\n",
       "       '1987', '1988', '1989', '1990', '1991', '1992', '1993', '1994', '1995',\n",
       "       '1996', '1997', '1998', '1999', '2000', '2001', '2002', '2003', '2004',\n",
       "       '2005', '2006', '2007', '2008', '2009', '2010', '2011', '2012', '2013',\n",
       "       '2014', '2015', '2016', '2017', '2018', '2019', '2020'],\n",
       "      dtype='object')"
      ]
     },
     "execution_count": 3,
     "metadata": {},
     "output_type": "execute_result"
    }
   ],
   "source": [
    "df.columns"
   ]
  },
  {
   "cell_type": "markdown",
   "id": "e7ea88c3",
   "metadata": {},
   "source": [
    "## Fetch Top 3 Records"
   ]
  },
  {
   "cell_type": "code",
   "execution_count": 4,
   "id": "8be0f947",
   "metadata": {},
   "outputs": [
    {
     "data": {
      "text/html": [
       "<div>\n",
       "<style scoped>\n",
       "    .dataframe tbody tr th:only-of-type {\n",
       "        vertical-align: middle;\n",
       "    }\n",
       "\n",
       "    .dataframe tbody tr th {\n",
       "        vertical-align: top;\n",
       "    }\n",
       "\n",
       "    .dataframe thead th {\n",
       "        text-align: right;\n",
       "    }\n",
       "</style>\n",
       "<table border=\"1\" class=\"dataframe\">\n",
       "  <thead>\n",
       "    <tr style=\"text-align: right;\">\n",
       "      <th></th>\n",
       "      <th>Country Name</th>\n",
       "      <th>Country Code</th>\n",
       "      <th>Indicator Name</th>\n",
       "      <th>Indicator Code</th>\n",
       "      <th>1960</th>\n",
       "      <th>1961</th>\n",
       "      <th>1962</th>\n",
       "      <th>1963</th>\n",
       "      <th>1964</th>\n",
       "      <th>1965</th>\n",
       "      <th>...</th>\n",
       "      <th>2011</th>\n",
       "      <th>2012</th>\n",
       "      <th>2013</th>\n",
       "      <th>2014</th>\n",
       "      <th>2015</th>\n",
       "      <th>2016</th>\n",
       "      <th>2017</th>\n",
       "      <th>2018</th>\n",
       "      <th>2019</th>\n",
       "      <th>2020</th>\n",
       "    </tr>\n",
       "  </thead>\n",
       "  <tbody>\n",
       "    <tr>\n",
       "      <th>0</th>\n",
       "      <td>Aruba</td>\n",
       "      <td>ABW</td>\n",
       "      <td>Population, total</td>\n",
       "      <td>SP.POP.TOTL</td>\n",
       "      <td>54208.0</td>\n",
       "      <td>55434.0</td>\n",
       "      <td>56234.0</td>\n",
       "      <td>56699.0</td>\n",
       "      <td>57029.0</td>\n",
       "      <td>57357.0</td>\n",
       "      <td>...</td>\n",
       "      <td>102050.0</td>\n",
       "      <td>102565.0</td>\n",
       "      <td>103165.0</td>\n",
       "      <td>103776.0</td>\n",
       "      <td>104339.0</td>\n",
       "      <td>104865.0</td>\n",
       "      <td>105361.0</td>\n",
       "      <td>105846.0</td>\n",
       "      <td>106310.0</td>\n",
       "      <td>106766.0</td>\n",
       "    </tr>\n",
       "    <tr>\n",
       "      <th>1</th>\n",
       "      <td>Africa Eastern and Southern</td>\n",
       "      <td>AFE</td>\n",
       "      <td>Population, total</td>\n",
       "      <td>SP.POP.TOTL</td>\n",
       "      <td>130836765.0</td>\n",
       "      <td>134159786.0</td>\n",
       "      <td>137614644.0</td>\n",
       "      <td>141202036.0</td>\n",
       "      <td>144920186.0</td>\n",
       "      <td>148769974.0</td>\n",
       "      <td>...</td>\n",
       "      <td>532760424.0</td>\n",
       "      <td>547482863.0</td>\n",
       "      <td>562601578.0</td>\n",
       "      <td>578075373.0</td>\n",
       "      <td>593871847.0</td>\n",
       "      <td>609978946.0</td>\n",
       "      <td>626392880.0</td>\n",
       "      <td>643090131.0</td>\n",
       "      <td>660046272.0</td>\n",
       "      <td>677243299.0</td>\n",
       "    </tr>\n",
       "    <tr>\n",
       "      <th>2</th>\n",
       "      <td>Afghanistan</td>\n",
       "      <td>AFG</td>\n",
       "      <td>Population, total</td>\n",
       "      <td>SP.POP.TOTL</td>\n",
       "      <td>8996967.0</td>\n",
       "      <td>9169406.0</td>\n",
       "      <td>9351442.0</td>\n",
       "      <td>9543200.0</td>\n",
       "      <td>9744772.0</td>\n",
       "      <td>9956318.0</td>\n",
       "      <td>...</td>\n",
       "      <td>30117411.0</td>\n",
       "      <td>31161378.0</td>\n",
       "      <td>32269592.0</td>\n",
       "      <td>33370804.0</td>\n",
       "      <td>34413603.0</td>\n",
       "      <td>35383028.0</td>\n",
       "      <td>36296111.0</td>\n",
       "      <td>37171922.0</td>\n",
       "      <td>38041757.0</td>\n",
       "      <td>38928341.0</td>\n",
       "    </tr>\n",
       "  </tbody>\n",
       "</table>\n",
       "<p>3 rows × 65 columns</p>\n",
       "</div>"
      ],
      "text/plain": [
       "                  Country Name Country Code     Indicator Name Indicator Code  \\\n",
       "0                        Aruba          ABW  Population, total    SP.POP.TOTL   \n",
       "1  Africa Eastern and Southern          AFE  Population, total    SP.POP.TOTL   \n",
       "2                  Afghanistan          AFG  Population, total    SP.POP.TOTL   \n",
       "\n",
       "          1960         1961         1962         1963         1964  \\\n",
       "0      54208.0      55434.0      56234.0      56699.0      57029.0   \n",
       "1  130836765.0  134159786.0  137614644.0  141202036.0  144920186.0   \n",
       "2    8996967.0    9169406.0    9351442.0    9543200.0    9744772.0   \n",
       "\n",
       "          1965  ...         2011         2012         2013         2014  \\\n",
       "0      57357.0  ...     102050.0     102565.0     103165.0     103776.0   \n",
       "1  148769974.0  ...  532760424.0  547482863.0  562601578.0  578075373.0   \n",
       "2    9956318.0  ...   30117411.0   31161378.0   32269592.0   33370804.0   \n",
       "\n",
       "          2015         2016         2017         2018         2019  \\\n",
       "0     104339.0     104865.0     105361.0     105846.0     106310.0   \n",
       "1  593871847.0  609978946.0  626392880.0  643090131.0  660046272.0   \n",
       "2   34413603.0   35383028.0   36296111.0   37171922.0   38041757.0   \n",
       "\n",
       "          2020  \n",
       "0     106766.0  \n",
       "1  677243299.0  \n",
       "2   38928341.0  \n",
       "\n",
       "[3 rows x 65 columns]"
      ]
     },
     "execution_count": 4,
     "metadata": {},
     "output_type": "execute_result"
    }
   ],
   "source": [
    "df.head(3)"
   ]
  },
  {
   "cell_type": "markdown",
   "id": "8f3fd025",
   "metadata": {},
   "source": [
    "## Fetch Last 3 Records"
   ]
  },
  {
   "cell_type": "code",
   "execution_count": 5,
   "id": "98844aa7",
   "metadata": {},
   "outputs": [
    {
     "data": {
      "text/html": [
       "<div>\n",
       "<style scoped>\n",
       "    .dataframe tbody tr th:only-of-type {\n",
       "        vertical-align: middle;\n",
       "    }\n",
       "\n",
       "    .dataframe tbody tr th {\n",
       "        vertical-align: top;\n",
       "    }\n",
       "\n",
       "    .dataframe thead th {\n",
       "        text-align: right;\n",
       "    }\n",
       "</style>\n",
       "<table border=\"1\" class=\"dataframe\">\n",
       "  <thead>\n",
       "    <tr style=\"text-align: right;\">\n",
       "      <th></th>\n",
       "      <th>Country Name</th>\n",
       "      <th>Country Code</th>\n",
       "      <th>Indicator Name</th>\n",
       "      <th>Indicator Code</th>\n",
       "      <th>1960</th>\n",
       "      <th>1961</th>\n",
       "      <th>1962</th>\n",
       "      <th>1963</th>\n",
       "      <th>1964</th>\n",
       "      <th>1965</th>\n",
       "      <th>...</th>\n",
       "      <th>2011</th>\n",
       "      <th>2012</th>\n",
       "      <th>2013</th>\n",
       "      <th>2014</th>\n",
       "      <th>2015</th>\n",
       "      <th>2016</th>\n",
       "      <th>2017</th>\n",
       "      <th>2018</th>\n",
       "      <th>2019</th>\n",
       "      <th>2020</th>\n",
       "    </tr>\n",
       "  </thead>\n",
       "  <tbody>\n",
       "    <tr>\n",
       "      <th>263</th>\n",
       "      <td>South Africa</td>\n",
       "      <td>ZAF</td>\n",
       "      <td>Population, total</td>\n",
       "      <td>SP.POP.TOTL</td>\n",
       "      <td>17099836.0</td>\n",
       "      <td>17524533.0</td>\n",
       "      <td>17965733.0</td>\n",
       "      <td>18423157.0</td>\n",
       "      <td>18896303.0</td>\n",
       "      <td>19384838.0</td>\n",
       "      <td>...</td>\n",
       "      <td>52003759.0</td>\n",
       "      <td>52832659.0</td>\n",
       "      <td>53687125.0</td>\n",
       "      <td>54544184.0</td>\n",
       "      <td>55386369.0</td>\n",
       "      <td>56207649.0</td>\n",
       "      <td>57009751.0</td>\n",
       "      <td>57792520.0</td>\n",
       "      <td>58558267.0</td>\n",
       "      <td>59308690.0</td>\n",
       "    </tr>\n",
       "    <tr>\n",
       "      <th>264</th>\n",
       "      <td>Zambia</td>\n",
       "      <td>ZMB</td>\n",
       "      <td>Population, total</td>\n",
       "      <td>SP.POP.TOTL</td>\n",
       "      <td>3070780.0</td>\n",
       "      <td>3164330.0</td>\n",
       "      <td>3260645.0</td>\n",
       "      <td>3360099.0</td>\n",
       "      <td>3463211.0</td>\n",
       "      <td>3570466.0</td>\n",
       "      <td>...</td>\n",
       "      <td>14023199.0</td>\n",
       "      <td>14465148.0</td>\n",
       "      <td>14926551.0</td>\n",
       "      <td>15399793.0</td>\n",
       "      <td>15879370.0</td>\n",
       "      <td>16363449.0</td>\n",
       "      <td>16853608.0</td>\n",
       "      <td>17351714.0</td>\n",
       "      <td>17861034.0</td>\n",
       "      <td>18383956.0</td>\n",
       "    </tr>\n",
       "    <tr>\n",
       "      <th>265</th>\n",
       "      <td>Zimbabwe</td>\n",
       "      <td>ZWE</td>\n",
       "      <td>Population, total</td>\n",
       "      <td>SP.POP.TOTL</td>\n",
       "      <td>3776679.0</td>\n",
       "      <td>3905038.0</td>\n",
       "      <td>4039209.0</td>\n",
       "      <td>4178726.0</td>\n",
       "      <td>4322854.0</td>\n",
       "      <td>4471178.0</td>\n",
       "      <td>...</td>\n",
       "      <td>12894323.0</td>\n",
       "      <td>13115149.0</td>\n",
       "      <td>13350378.0</td>\n",
       "      <td>13586710.0</td>\n",
       "      <td>13814642.0</td>\n",
       "      <td>14030338.0</td>\n",
       "      <td>14236599.0</td>\n",
       "      <td>14438812.0</td>\n",
       "      <td>14645473.0</td>\n",
       "      <td>14862927.0</td>\n",
       "    </tr>\n",
       "  </tbody>\n",
       "</table>\n",
       "<p>3 rows × 65 columns</p>\n",
       "</div>"
      ],
      "text/plain": [
       "     Country Name Country Code     Indicator Name Indicator Code        1960  \\\n",
       "263  South Africa          ZAF  Population, total    SP.POP.TOTL  17099836.0   \n",
       "264        Zambia          ZMB  Population, total    SP.POP.TOTL   3070780.0   \n",
       "265      Zimbabwe          ZWE  Population, total    SP.POP.TOTL   3776679.0   \n",
       "\n",
       "           1961        1962        1963        1964        1965  ...  \\\n",
       "263  17524533.0  17965733.0  18423157.0  18896303.0  19384838.0  ...   \n",
       "264   3164330.0   3260645.0   3360099.0   3463211.0   3570466.0  ...   \n",
       "265   3905038.0   4039209.0   4178726.0   4322854.0   4471178.0  ...   \n",
       "\n",
       "           2011        2012        2013        2014        2015        2016  \\\n",
       "263  52003759.0  52832659.0  53687125.0  54544184.0  55386369.0  56207649.0   \n",
       "264  14023199.0  14465148.0  14926551.0  15399793.0  15879370.0  16363449.0   \n",
       "265  12894323.0  13115149.0  13350378.0  13586710.0  13814642.0  14030338.0   \n",
       "\n",
       "           2017        2018        2019        2020  \n",
       "263  57009751.0  57792520.0  58558267.0  59308690.0  \n",
       "264  16853608.0  17351714.0  17861034.0  18383956.0  \n",
       "265  14236599.0  14438812.0  14645473.0  14862927.0  \n",
       "\n",
       "[3 rows x 65 columns]"
      ]
     },
     "execution_count": 5,
     "metadata": {},
     "output_type": "execute_result"
    }
   ],
   "source": [
    "df.tail(3)"
   ]
  },
  {
   "cell_type": "markdown",
   "id": "eb5480b3",
   "metadata": {},
   "source": [
    "## How many rows and columns present?"
   ]
  },
  {
   "cell_type": "code",
   "execution_count": 6,
   "id": "bd0f3626",
   "metadata": {},
   "outputs": [
    {
     "data": {
      "text/plain": [
       "(266, 65)"
      ]
     },
     "execution_count": 6,
     "metadata": {},
     "output_type": "execute_result"
    }
   ],
   "source": [
    "sh = df.shape\n",
    "sh"
   ]
  },
  {
   "cell_type": "code",
   "execution_count": 7,
   "id": "fd67167e",
   "metadata": {},
   "outputs": [
    {
     "name": "stdout",
     "output_type": "stream",
     "text": [
      "Total number of rows: 266\n",
      "Total number of columns: 65\n"
     ]
    }
   ],
   "source": [
    "print('Total number of rows:',sh[0])\n",
    "print('Total number of columns:',sh[1])"
   ]
  },
  {
   "cell_type": "markdown",
   "id": "004fa3bb",
   "metadata": {},
   "source": [
    "## Known about type of Data in file"
   ]
  },
  {
   "cell_type": "code",
   "execution_count": 8,
   "id": "4beb05ee",
   "metadata": {},
   "outputs": [
    {
     "data": {
      "text/plain": [
       "Country Name       object\n",
       "Country Code       object\n",
       "Indicator Name     object\n",
       "Indicator Code     object\n",
       "1960              float64\n",
       "                   ...   \n",
       "2016              float64\n",
       "2017              float64\n",
       "2018              float64\n",
       "2019              float64\n",
       "2020              float64\n",
       "Length: 65, dtype: object"
      ]
     },
     "execution_count": 8,
     "metadata": {},
     "output_type": "execute_result"
    }
   ],
   "source": [
    "df.dtypes"
   ]
  },
  {
   "cell_type": "markdown",
   "id": "55b470e4",
   "metadata": {},
   "source": [
    "## List out the names of columns"
   ]
  },
  {
   "cell_type": "code",
   "execution_count": 9,
   "id": "23cf942e",
   "metadata": {},
   "outputs": [
    {
     "name": "stdout",
     "output_type": "stream",
     "text": [
      "['Country Name', 'Country Code', 'Indicator Name', 'Indicator Code', '1960', '1961', '1962', '1963', '1964', '1965', '1966', '1967', '1968', '1969', '1970', '1971', '1972', '1973', '1974', '1975', '1976', '1977', '1978', '1979', '1980', '1981', '1982', '1983', '1984', '1985', '1986', '1987', '1988', '1989', '1990', '1991', '1992', '1993', '1994', '1995', '1996', '1997', '1998', '1999', '2000', '2001', '2002', '2003', '2004', '2005', '2006', '2007', '2008', '2009', '2010', '2011', '2012', '2013', '2014', '2015', '2016', '2017', '2018', '2019', '2020']\n"
     ]
    }
   ],
   "source": [
    "print(list(df.columns))"
   ]
  },
  {
   "cell_type": "code",
   "execution_count": 10,
   "id": "2c322e31",
   "metadata": {},
   "outputs": [
    {
     "data": {
      "text/plain": [
       "array(['Country Name', 'Country Code', 'Indicator Name', 'Indicator Code',\n",
       "       '1960', '1961', '1962', '1963', '1964', '1965', '1966', '1967',\n",
       "       '1968', '1969', '1970', '1971', '1972', '1973', '1974', '1975',\n",
       "       '1976', '1977', '1978', '1979', '1980', '1981', '1982', '1983',\n",
       "       '1984', '1985', '1986', '1987', '1988', '1989', '1990', '1991',\n",
       "       '1992', '1993', '1994', '1995', '1996', '1997', '1998', '1999',\n",
       "       '2000', '2001', '2002', '2003', '2004', '2005', '2006', '2007',\n",
       "       '2008', '2009', '2010', '2011', '2012', '2013', '2014', '2015',\n",
       "       '2016', '2017', '2018', '2019', '2020'], dtype=object)"
      ]
     },
     "execution_count": 10,
     "metadata": {},
     "output_type": "execute_result"
    }
   ],
   "source": [
    "np.array(df.columns)"
   ]
  },
  {
   "cell_type": "markdown",
   "id": "bd32645c",
   "metadata": {},
   "source": [
    "## Check the abstract summary of data"
   ]
  },
  {
   "cell_type": "code",
   "execution_count": 11,
   "id": "85d8ee03",
   "metadata": {},
   "outputs": [
    {
     "name": "stdout",
     "output_type": "stream",
     "text": [
      "<class 'pandas.core.frame.DataFrame'>\n",
      "RangeIndex: 266 entries, 0 to 265\n",
      "Data columns (total 65 columns):\n",
      " #   Column          Non-Null Count  Dtype  \n",
      "---  ------          --------------  -----  \n",
      " 0   Country Name    266 non-null    object \n",
      " 1   Country Code    266 non-null    object \n",
      " 2   Indicator Name  266 non-null    object \n",
      " 3   Indicator Code  266 non-null    object \n",
      " 4   1960            264 non-null    float64\n",
      " 5   1961            264 non-null    float64\n",
      " 6   1962            264 non-null    float64\n",
      " 7   1963            264 non-null    float64\n",
      " 8   1964            264 non-null    float64\n",
      " 9   1965            264 non-null    float64\n",
      " 10  1966            264 non-null    float64\n",
      " 11  1967            264 non-null    float64\n",
      " 12  1968            264 non-null    float64\n",
      " 13  1969            264 non-null    float64\n",
      " 14  1970            264 non-null    float64\n",
      " 15  1971            264 non-null    float64\n",
      " 16  1972            264 non-null    float64\n",
      " 17  1973            264 non-null    float64\n",
      " 18  1974            264 non-null    float64\n",
      " 19  1975            264 non-null    float64\n",
      " 20  1976            264 non-null    float64\n",
      " 21  1977            264 non-null    float64\n",
      " 22  1978            264 non-null    float64\n",
      " 23  1979            264 non-null    float64\n",
      " 24  1980            264 non-null    float64\n",
      " 25  1981            264 non-null    float64\n",
      " 26  1982            264 non-null    float64\n",
      " 27  1983            264 non-null    float64\n",
      " 28  1984            264 non-null    float64\n",
      " 29  1985            264 non-null    float64\n",
      " 30  1986            264 non-null    float64\n",
      " 31  1987            264 non-null    float64\n",
      " 32  1988            264 non-null    float64\n",
      " 33  1989            264 non-null    float64\n",
      " 34  1990            265 non-null    float64\n",
      " 35  1991            265 non-null    float64\n",
      " 36  1992            264 non-null    float64\n",
      " 37  1993            264 non-null    float64\n",
      " 38  1994            264 non-null    float64\n",
      " 39  1995            265 non-null    float64\n",
      " 40  1996            265 non-null    float64\n",
      " 41  1997            265 non-null    float64\n",
      " 42  1998            265 non-null    float64\n",
      " 43  1999            265 non-null    float64\n",
      " 44  2000            265 non-null    float64\n",
      " 45  2001            265 non-null    float64\n",
      " 46  2002            265 non-null    float64\n",
      " 47  2003            265 non-null    float64\n",
      " 48  2004            265 non-null    float64\n",
      " 49  2005            265 non-null    float64\n",
      " 50  2006            265 non-null    float64\n",
      " 51  2007            265 non-null    float64\n",
      " 52  2008            265 non-null    float64\n",
      " 53  2009            265 non-null    float64\n",
      " 54  2010            265 non-null    float64\n",
      " 55  2011            265 non-null    float64\n",
      " 56  2012            264 non-null    float64\n",
      " 57  2013            264 non-null    float64\n",
      " 58  2014            264 non-null    float64\n",
      " 59  2015            264 non-null    float64\n",
      " 60  2016            264 non-null    float64\n",
      " 61  2017            264 non-null    float64\n",
      " 62  2018            264 non-null    float64\n",
      " 63  2019            264 non-null    float64\n",
      " 64  2020            264 non-null    float64\n",
      "dtypes: float64(61), object(4)\n",
      "memory usage: 135.2+ KB\n"
     ]
    }
   ],
   "source": [
    "df.info()"
   ]
  },
  {
   "cell_type": "markdown",
   "id": "a2185dc6",
   "metadata": {},
   "source": [
    "## Check the missing values"
   ]
  },
  {
   "cell_type": "code",
   "execution_count": 12,
   "id": "d80ac42a",
   "metadata": {},
   "outputs": [
    {
     "data": {
      "text/plain": [
       "Country Name      0\n",
       "Country Code      0\n",
       "Indicator Name    0\n",
       "Indicator Code    0\n",
       "1960              2\n",
       "                 ..\n",
       "2016              2\n",
       "2017              2\n",
       "2018              2\n",
       "2019              2\n",
       "2020              2\n",
       "Length: 65, dtype: int64"
      ]
     },
     "execution_count": 12,
     "metadata": {},
     "output_type": "execute_result"
    }
   ],
   "source": [
    "df.isnull().sum()"
   ]
  },
  {
   "cell_type": "markdown",
   "id": "5eefa292",
   "metadata": {},
   "source": [
    "## Fill the null values"
   ]
  },
  {
   "cell_type": "code",
   "execution_count": 13,
   "id": "7379a47f",
   "metadata": {},
   "outputs": [
    {
     "data": {
      "text/plain": [
       "True"
      ]
     },
     "execution_count": 13,
     "metadata": {},
     "output_type": "execute_result"
    }
   ],
   "source": [
    "df.isnull().sum().any()"
   ]
  },
  {
   "cell_type": "code",
   "execution_count": 14,
   "id": "7cbdb7e2",
   "metadata": {},
   "outputs": [
    {
     "data": {
      "text/html": [
       "<div>\n",
       "<style scoped>\n",
       "    .dataframe tbody tr th:only-of-type {\n",
       "        vertical-align: middle;\n",
       "    }\n",
       "\n",
       "    .dataframe tbody tr th {\n",
       "        vertical-align: top;\n",
       "    }\n",
       "\n",
       "    .dataframe thead th {\n",
       "        text-align: right;\n",
       "    }\n",
       "</style>\n",
       "<table border=\"1\" class=\"dataframe\">\n",
       "  <thead>\n",
       "    <tr style=\"text-align: right;\">\n",
       "      <th></th>\n",
       "      <th>Country Name</th>\n",
       "      <th>Country Code</th>\n",
       "      <th>Indicator Name</th>\n",
       "      <th>Indicator Code</th>\n",
       "      <th>1960</th>\n",
       "      <th>1961</th>\n",
       "      <th>1962</th>\n",
       "      <th>1963</th>\n",
       "      <th>1964</th>\n",
       "      <th>1965</th>\n",
       "      <th>...</th>\n",
       "      <th>2011</th>\n",
       "      <th>2012</th>\n",
       "      <th>2013</th>\n",
       "      <th>2014</th>\n",
       "      <th>2015</th>\n",
       "      <th>2016</th>\n",
       "      <th>2017</th>\n",
       "      <th>2018</th>\n",
       "      <th>2019</th>\n",
       "      <th>2020</th>\n",
       "    </tr>\n",
       "  </thead>\n",
       "  <tbody>\n",
       "    <tr>\n",
       "      <th>0</th>\n",
       "      <td>Aruba</td>\n",
       "      <td>ABW</td>\n",
       "      <td>Population, total</td>\n",
       "      <td>SP.POP.TOTL</td>\n",
       "      <td>54208.0</td>\n",
       "      <td>55434.0</td>\n",
       "      <td>56234.0</td>\n",
       "      <td>56699.0</td>\n",
       "      <td>57029.0</td>\n",
       "      <td>57357.0</td>\n",
       "      <td>...</td>\n",
       "      <td>102050.0</td>\n",
       "      <td>102565.0</td>\n",
       "      <td>103165.0</td>\n",
       "      <td>103776.0</td>\n",
       "      <td>104339.0</td>\n",
       "      <td>104865.0</td>\n",
       "      <td>105361.0</td>\n",
       "      <td>105846.0</td>\n",
       "      <td>106310.0</td>\n",
       "      <td>106766.0</td>\n",
       "    </tr>\n",
       "    <tr>\n",
       "      <th>1</th>\n",
       "      <td>Africa Eastern and Southern</td>\n",
       "      <td>AFE</td>\n",
       "      <td>Population, total</td>\n",
       "      <td>SP.POP.TOTL</td>\n",
       "      <td>130836765.0</td>\n",
       "      <td>134159786.0</td>\n",
       "      <td>137614644.0</td>\n",
       "      <td>141202036.0</td>\n",
       "      <td>144920186.0</td>\n",
       "      <td>148769974.0</td>\n",
       "      <td>...</td>\n",
       "      <td>532760424.0</td>\n",
       "      <td>547482863.0</td>\n",
       "      <td>562601578.0</td>\n",
       "      <td>578075373.0</td>\n",
       "      <td>593871847.0</td>\n",
       "      <td>609978946.0</td>\n",
       "      <td>626392880.0</td>\n",
       "      <td>643090131.0</td>\n",
       "      <td>660046272.0</td>\n",
       "      <td>677243299.0</td>\n",
       "    </tr>\n",
       "    <tr>\n",
       "      <th>2</th>\n",
       "      <td>Afghanistan</td>\n",
       "      <td>AFG</td>\n",
       "      <td>Population, total</td>\n",
       "      <td>SP.POP.TOTL</td>\n",
       "      <td>8996967.0</td>\n",
       "      <td>9169406.0</td>\n",
       "      <td>9351442.0</td>\n",
       "      <td>9543200.0</td>\n",
       "      <td>9744772.0</td>\n",
       "      <td>9956318.0</td>\n",
       "      <td>...</td>\n",
       "      <td>30117411.0</td>\n",
       "      <td>31161378.0</td>\n",
       "      <td>32269592.0</td>\n",
       "      <td>33370804.0</td>\n",
       "      <td>34413603.0</td>\n",
       "      <td>35383028.0</td>\n",
       "      <td>36296111.0</td>\n",
       "      <td>37171922.0</td>\n",
       "      <td>38041757.0</td>\n",
       "      <td>38928341.0</td>\n",
       "    </tr>\n",
       "    <tr>\n",
       "      <th>3</th>\n",
       "      <td>Africa Western and Central</td>\n",
       "      <td>AFW</td>\n",
       "      <td>Population, total</td>\n",
       "      <td>SP.POP.TOTL</td>\n",
       "      <td>96396419.0</td>\n",
       "      <td>98407221.0</td>\n",
       "      <td>100506960.0</td>\n",
       "      <td>102691339.0</td>\n",
       "      <td>104953470.0</td>\n",
       "      <td>107289875.0</td>\n",
       "      <td>...</td>\n",
       "      <td>360285439.0</td>\n",
       "      <td>370243017.0</td>\n",
       "      <td>380437896.0</td>\n",
       "      <td>390882979.0</td>\n",
       "      <td>401586651.0</td>\n",
       "      <td>412551299.0</td>\n",
       "      <td>423769930.0</td>\n",
       "      <td>435229381.0</td>\n",
       "      <td>446911598.0</td>\n",
       "      <td>458803476.0</td>\n",
       "    </tr>\n",
       "    <tr>\n",
       "      <th>4</th>\n",
       "      <td>Angola</td>\n",
       "      <td>AGO</td>\n",
       "      <td>Population, total</td>\n",
       "      <td>SP.POP.TOTL</td>\n",
       "      <td>5454938.0</td>\n",
       "      <td>5531451.0</td>\n",
       "      <td>5608499.0</td>\n",
       "      <td>5679409.0</td>\n",
       "      <td>5734995.0</td>\n",
       "      <td>5770573.0</td>\n",
       "      <td>...</td>\n",
       "      <td>24220660.0</td>\n",
       "      <td>25107925.0</td>\n",
       "      <td>26015786.0</td>\n",
       "      <td>26941773.0</td>\n",
       "      <td>27884380.0</td>\n",
       "      <td>28842482.0</td>\n",
       "      <td>29816769.0</td>\n",
       "      <td>30809787.0</td>\n",
       "      <td>31825299.0</td>\n",
       "      <td>32866268.0</td>\n",
       "    </tr>\n",
       "  </tbody>\n",
       "</table>\n",
       "<p>5 rows × 65 columns</p>\n",
       "</div>"
      ],
      "text/plain": [
       "                  Country Name Country Code     Indicator Name Indicator Code  \\\n",
       "0                        Aruba          ABW  Population, total    SP.POP.TOTL   \n",
       "1  Africa Eastern and Southern          AFE  Population, total    SP.POP.TOTL   \n",
       "2                  Afghanistan          AFG  Population, total    SP.POP.TOTL   \n",
       "3   Africa Western and Central          AFW  Population, total    SP.POP.TOTL   \n",
       "4                       Angola          AGO  Population, total    SP.POP.TOTL   \n",
       "\n",
       "          1960         1961         1962         1963         1964  \\\n",
       "0      54208.0      55434.0      56234.0      56699.0      57029.0   \n",
       "1  130836765.0  134159786.0  137614644.0  141202036.0  144920186.0   \n",
       "2    8996967.0    9169406.0    9351442.0    9543200.0    9744772.0   \n",
       "3   96396419.0   98407221.0  100506960.0  102691339.0  104953470.0   \n",
       "4    5454938.0    5531451.0    5608499.0    5679409.0    5734995.0   \n",
       "\n",
       "          1965  ...         2011         2012         2013         2014  \\\n",
       "0      57357.0  ...     102050.0     102565.0     103165.0     103776.0   \n",
       "1  148769974.0  ...  532760424.0  547482863.0  562601578.0  578075373.0   \n",
       "2    9956318.0  ...   30117411.0   31161378.0   32269592.0   33370804.0   \n",
       "3  107289875.0  ...  360285439.0  370243017.0  380437896.0  390882979.0   \n",
       "4    5770573.0  ...   24220660.0   25107925.0   26015786.0   26941773.0   \n",
       "\n",
       "          2015         2016         2017         2018         2019  \\\n",
       "0     104339.0     104865.0     105361.0     105846.0     106310.0   \n",
       "1  593871847.0  609978946.0  626392880.0  643090131.0  660046272.0   \n",
       "2   34413603.0   35383028.0   36296111.0   37171922.0   38041757.0   \n",
       "3  401586651.0  412551299.0  423769930.0  435229381.0  446911598.0   \n",
       "4   27884380.0   28842482.0   29816769.0   30809787.0   31825299.0   \n",
       "\n",
       "          2020  \n",
       "0     106766.0  \n",
       "1  677243299.0  \n",
       "2   38928341.0  \n",
       "3  458803476.0  \n",
       "4   32866268.0  \n",
       "\n",
       "[5 rows x 65 columns]"
      ]
     },
     "execution_count": 14,
     "metadata": {},
     "output_type": "execute_result"
    }
   ],
   "source": [
    "df = df.fillna(method = \"bfill\")\n",
    "df.head()"
   ]
  },
  {
   "cell_type": "code",
   "execution_count": 15,
   "id": "144c9c7b",
   "metadata": {},
   "outputs": [
    {
     "data": {
      "text/plain": [
       "False"
      ]
     },
     "execution_count": 15,
     "metadata": {},
     "output_type": "execute_result"
    }
   ],
   "source": [
    "df.isnull().sum().any()"
   ]
  },
  {
   "cell_type": "markdown",
   "id": "6f72c777",
   "metadata": {},
   "source": [
    "## Check descriptive statistics"
   ]
  },
  {
   "cell_type": "code",
   "execution_count": 16,
   "id": "c6cf5d25",
   "metadata": {},
   "outputs": [
    {
     "data": {
      "text/html": [
       "<div>\n",
       "<style scoped>\n",
       "    .dataframe tbody tr th:only-of-type {\n",
       "        vertical-align: middle;\n",
       "    }\n",
       "\n",
       "    .dataframe tbody tr th {\n",
       "        vertical-align: top;\n",
       "    }\n",
       "\n",
       "    .dataframe thead th {\n",
       "        text-align: right;\n",
       "    }\n",
       "</style>\n",
       "<table border=\"1\" class=\"dataframe\">\n",
       "  <thead>\n",
       "    <tr style=\"text-align: right;\">\n",
       "      <th></th>\n",
       "      <th>1960</th>\n",
       "      <th>1961</th>\n",
       "      <th>1962</th>\n",
       "      <th>1963</th>\n",
       "      <th>1964</th>\n",
       "      <th>1965</th>\n",
       "      <th>1966</th>\n",
       "      <th>1967</th>\n",
       "      <th>1968</th>\n",
       "      <th>1969</th>\n",
       "      <th>...</th>\n",
       "      <th>2011</th>\n",
       "      <th>2012</th>\n",
       "      <th>2013</th>\n",
       "      <th>2014</th>\n",
       "      <th>2015</th>\n",
       "      <th>2016</th>\n",
       "      <th>2017</th>\n",
       "      <th>2018</th>\n",
       "      <th>2019</th>\n",
       "      <th>2020</th>\n",
       "    </tr>\n",
       "  </thead>\n",
       "  <tbody>\n",
       "    <tr>\n",
       "      <th>count</th>\n",
       "      <td>2.660000e+02</td>\n",
       "      <td>2.660000e+02</td>\n",
       "      <td>2.660000e+02</td>\n",
       "      <td>2.660000e+02</td>\n",
       "      <td>2.660000e+02</td>\n",
       "      <td>2.660000e+02</td>\n",
       "      <td>2.660000e+02</td>\n",
       "      <td>2.660000e+02</td>\n",
       "      <td>2.660000e+02</td>\n",
       "      <td>2.660000e+02</td>\n",
       "      <td>...</td>\n",
       "      <td>2.660000e+02</td>\n",
       "      <td>2.660000e+02</td>\n",
       "      <td>2.660000e+02</td>\n",
       "      <td>2.660000e+02</td>\n",
       "      <td>2.660000e+02</td>\n",
       "      <td>2.660000e+02</td>\n",
       "      <td>2.660000e+02</td>\n",
       "      <td>2.660000e+02</td>\n",
       "      <td>2.660000e+02</td>\n",
       "      <td>2.660000e+02</td>\n",
       "    </tr>\n",
       "    <tr>\n",
       "      <th>mean</th>\n",
       "      <td>1.164434e+08</td>\n",
       "      <td>1.179789e+08</td>\n",
       "      <td>1.200725e+08</td>\n",
       "      <td>1.226733e+08</td>\n",
       "      <td>1.252951e+08</td>\n",
       "      <td>1.279818e+08</td>\n",
       "      <td>1.308107e+08</td>\n",
       "      <td>1.336336e+08</td>\n",
       "      <td>1.365245e+08</td>\n",
       "      <td>1.395187e+08</td>\n",
       "      <td>...</td>\n",
       "      <td>2.817839e+08</td>\n",
       "      <td>2.855772e+08</td>\n",
       "      <td>2.892597e+08</td>\n",
       "      <td>2.929812e+08</td>\n",
       "      <td>2.967234e+08</td>\n",
       "      <td>3.005038e+08</td>\n",
       "      <td>3.042891e+08</td>\n",
       "      <td>3.080153e+08</td>\n",
       "      <td>3.116694e+08</td>\n",
       "      <td>3.152872e+08</td>\n",
       "    </tr>\n",
       "    <tr>\n",
       "      <th>std</th>\n",
       "      <td>3.692898e+08</td>\n",
       "      <td>3.736280e+08</td>\n",
       "      <td>3.801299e+08</td>\n",
       "      <td>3.885963e+08</td>\n",
       "      <td>3.971059e+08</td>\n",
       "      <td>4.058486e+08</td>\n",
       "      <td>4.151506e+08</td>\n",
       "      <td>4.243975e+08</td>\n",
       "      <td>4.338945e+08</td>\n",
       "      <td>4.437761e+08</td>\n",
       "      <td>...</td>\n",
       "      <td>8.890388e+08</td>\n",
       "      <td>8.996449e+08</td>\n",
       "      <td>9.104298e+08</td>\n",
       "      <td>9.213041e+08</td>\n",
       "      <td>9.322203e+08</td>\n",
       "      <td>9.432387e+08</td>\n",
       "      <td>9.542751e+08</td>\n",
       "      <td>9.650607e+08</td>\n",
       "      <td>9.755754e+08</td>\n",
       "      <td>9.859310e+08</td>\n",
       "    </tr>\n",
       "    <tr>\n",
       "      <th>min</th>\n",
       "      <td>2.833000e+03</td>\n",
       "      <td>3.077000e+03</td>\n",
       "      <td>3.367000e+03</td>\n",
       "      <td>3.703000e+03</td>\n",
       "      <td>4.063000e+03</td>\n",
       "      <td>4.460000e+03</td>\n",
       "      <td>4.675000e+03</td>\n",
       "      <td>4.922000e+03</td>\n",
       "      <td>5.194000e+03</td>\n",
       "      <td>5.461000e+03</td>\n",
       "      <td>...</td>\n",
       "      <td>1.006900e+04</td>\n",
       "      <td>1.013600e+04</td>\n",
       "      <td>1.020800e+04</td>\n",
       "      <td>1.028900e+04</td>\n",
       "      <td>1.037400e+04</td>\n",
       "      <td>1.047400e+04</td>\n",
       "      <td>1.057700e+04</td>\n",
       "      <td>1.067800e+04</td>\n",
       "      <td>1.076400e+04</td>\n",
       "      <td>1.083400e+04</td>\n",
       "    </tr>\n",
       "    <tr>\n",
       "      <th>25%</th>\n",
       "      <td>5.149835e+05</td>\n",
       "      <td>5.257388e+05</td>\n",
       "      <td>5.372568e+05</td>\n",
       "      <td>5.462485e+05</td>\n",
       "      <td>5.555595e+05</td>\n",
       "      <td>5.652400e+05</td>\n",
       "      <td>5.752960e+05</td>\n",
       "      <td>5.858988e+05</td>\n",
       "      <td>6.070990e+05</td>\n",
       "      <td>6.307158e+05</td>\n",
       "      <td>...</td>\n",
       "      <td>1.593404e+06</td>\n",
       "      <td>1.641155e+06</td>\n",
       "      <td>1.690462e+06</td>\n",
       "      <td>1.722518e+06</td>\n",
       "      <td>1.749954e+06</td>\n",
       "      <td>1.778776e+06</td>\n",
       "      <td>1.800289e+06</td>\n",
       "      <td>1.816390e+06</td>\n",
       "      <td>1.820114e+06</td>\n",
       "      <td>1.806920e+06</td>\n",
       "    </tr>\n",
       "    <tr>\n",
       "      <th>50%</th>\n",
       "      <td>3.658470e+06</td>\n",
       "      <td>3.738356e+06</td>\n",
       "      <td>3.821022e+06</td>\n",
       "      <td>3.926272e+06</td>\n",
       "      <td>4.051888e+06</td>\n",
       "      <td>4.180654e+06</td>\n",
       "      <td>4.275566e+06</td>\n",
       "      <td>4.344570e+06</td>\n",
       "      <td>4.415028e+06</td>\n",
       "      <td>4.455048e+06</td>\n",
       "      <td>...</td>\n",
       "      <td>9.467000e+06</td>\n",
       "      <td>9.824808e+06</td>\n",
       "      <td>9.948838e+06</td>\n",
       "      <td>1.001582e+07</td>\n",
       "      <td>1.022085e+07</td>\n",
       "      <td>1.036160e+07</td>\n",
       "      <td>1.040671e+07</td>\n",
       "      <td>1.045548e+07</td>\n",
       "      <td>1.047907e+07</td>\n",
       "      <td>1.052617e+07</td>\n",
       "    </tr>\n",
       "    <tr>\n",
       "      <th>75%</th>\n",
       "      <td>2.595540e+07</td>\n",
       "      <td>2.681221e+07</td>\n",
       "      <td>2.768627e+07</td>\n",
       "      <td>2.846897e+07</td>\n",
       "      <td>2.922970e+07</td>\n",
       "      <td>3.000094e+07</td>\n",
       "      <td>3.078709e+07</td>\n",
       "      <td>3.152311e+07</td>\n",
       "      <td>3.193057e+07</td>\n",
       "      <td>3.229729e+07</td>\n",
       "      <td>...</td>\n",
       "      <td>5.753553e+07</td>\n",
       "      <td>5.786295e+07</td>\n",
       "      <td>5.859724e+07</td>\n",
       "      <td>5.922790e+07</td>\n",
       "      <td>5.939453e+07</td>\n",
       "      <td>5.952254e+07</td>\n",
       "      <td>5.965497e+07</td>\n",
       "      <td>5.976445e+07</td>\n",
       "      <td>5.943638e+07</td>\n",
       "      <td>5.968917e+07</td>\n",
       "    </tr>\n",
       "    <tr>\n",
       "      <th>max</th>\n",
       "      <td>3.032156e+09</td>\n",
       "      <td>3.071596e+09</td>\n",
       "      <td>3.124561e+09</td>\n",
       "      <td>3.189656e+09</td>\n",
       "      <td>3.255146e+09</td>\n",
       "      <td>3.322047e+09</td>\n",
       "      <td>3.392098e+09</td>\n",
       "      <td>3.461620e+09</td>\n",
       "      <td>3.532783e+09</td>\n",
       "      <td>3.606554e+09</td>\n",
       "      <td>...</td>\n",
       "      <td>7.002881e+09</td>\n",
       "      <td>7.085790e+09</td>\n",
       "      <td>7.169675e+09</td>\n",
       "      <td>7.254293e+09</td>\n",
       "      <td>7.339077e+09</td>\n",
       "      <td>7.424485e+09</td>\n",
       "      <td>7.509410e+09</td>\n",
       "      <td>7.592476e+09</td>\n",
       "      <td>7.673345e+09</td>\n",
       "      <td>7.752841e+09</td>\n",
       "    </tr>\n",
       "  </tbody>\n",
       "</table>\n",
       "<p>8 rows × 61 columns</p>\n",
       "</div>"
      ],
      "text/plain": [
       "               1960          1961          1962          1963          1964  \\\n",
       "count  2.660000e+02  2.660000e+02  2.660000e+02  2.660000e+02  2.660000e+02   \n",
       "mean   1.164434e+08  1.179789e+08  1.200725e+08  1.226733e+08  1.252951e+08   \n",
       "std    3.692898e+08  3.736280e+08  3.801299e+08  3.885963e+08  3.971059e+08   \n",
       "min    2.833000e+03  3.077000e+03  3.367000e+03  3.703000e+03  4.063000e+03   \n",
       "25%    5.149835e+05  5.257388e+05  5.372568e+05  5.462485e+05  5.555595e+05   \n",
       "50%    3.658470e+06  3.738356e+06  3.821022e+06  3.926272e+06  4.051888e+06   \n",
       "75%    2.595540e+07  2.681221e+07  2.768627e+07  2.846897e+07  2.922970e+07   \n",
       "max    3.032156e+09  3.071596e+09  3.124561e+09  3.189656e+09  3.255146e+09   \n",
       "\n",
       "               1965          1966          1967          1968          1969  \\\n",
       "count  2.660000e+02  2.660000e+02  2.660000e+02  2.660000e+02  2.660000e+02   \n",
       "mean   1.279818e+08  1.308107e+08  1.336336e+08  1.365245e+08  1.395187e+08   \n",
       "std    4.058486e+08  4.151506e+08  4.243975e+08  4.338945e+08  4.437761e+08   \n",
       "min    4.460000e+03  4.675000e+03  4.922000e+03  5.194000e+03  5.461000e+03   \n",
       "25%    5.652400e+05  5.752960e+05  5.858988e+05  6.070990e+05  6.307158e+05   \n",
       "50%    4.180654e+06  4.275566e+06  4.344570e+06  4.415028e+06  4.455048e+06   \n",
       "75%    3.000094e+07  3.078709e+07  3.152311e+07  3.193057e+07  3.229729e+07   \n",
       "max    3.322047e+09  3.392098e+09  3.461620e+09  3.532783e+09  3.606554e+09   \n",
       "\n",
       "       ...          2011          2012          2013          2014  \\\n",
       "count  ...  2.660000e+02  2.660000e+02  2.660000e+02  2.660000e+02   \n",
       "mean   ...  2.817839e+08  2.855772e+08  2.892597e+08  2.929812e+08   \n",
       "std    ...  8.890388e+08  8.996449e+08  9.104298e+08  9.213041e+08   \n",
       "min    ...  1.006900e+04  1.013600e+04  1.020800e+04  1.028900e+04   \n",
       "25%    ...  1.593404e+06  1.641155e+06  1.690462e+06  1.722518e+06   \n",
       "50%    ...  9.467000e+06  9.824808e+06  9.948838e+06  1.001582e+07   \n",
       "75%    ...  5.753553e+07  5.786295e+07  5.859724e+07  5.922790e+07   \n",
       "max    ...  7.002881e+09  7.085790e+09  7.169675e+09  7.254293e+09   \n",
       "\n",
       "               2015          2016          2017          2018          2019  \\\n",
       "count  2.660000e+02  2.660000e+02  2.660000e+02  2.660000e+02  2.660000e+02   \n",
       "mean   2.967234e+08  3.005038e+08  3.042891e+08  3.080153e+08  3.116694e+08   \n",
       "std    9.322203e+08  9.432387e+08  9.542751e+08  9.650607e+08  9.755754e+08   \n",
       "min    1.037400e+04  1.047400e+04  1.057700e+04  1.067800e+04  1.076400e+04   \n",
       "25%    1.749954e+06  1.778776e+06  1.800289e+06  1.816390e+06  1.820114e+06   \n",
       "50%    1.022085e+07  1.036160e+07  1.040671e+07  1.045548e+07  1.047907e+07   \n",
       "75%    5.939453e+07  5.952254e+07  5.965497e+07  5.976445e+07  5.943638e+07   \n",
       "max    7.339077e+09  7.424485e+09  7.509410e+09  7.592476e+09  7.673345e+09   \n",
       "\n",
       "               2020  \n",
       "count  2.660000e+02  \n",
       "mean   3.152872e+08  \n",
       "std    9.859310e+08  \n",
       "min    1.083400e+04  \n",
       "25%    1.806920e+06  \n",
       "50%    1.052617e+07  \n",
       "75%    5.968917e+07  \n",
       "max    7.752841e+09  \n",
       "\n",
       "[8 rows x 61 columns]"
      ]
     },
     "execution_count": 16,
     "metadata": {},
     "output_type": "execute_result"
    }
   ],
   "source": [
    "df.describe()"
   ]
  },
  {
   "cell_type": "markdown",
   "id": "c40fdbdc",
   "metadata": {},
   "source": [
    "## Data Visualization"
   ]
  },
  {
   "cell_type": "code",
   "execution_count": 17,
   "id": "22141d7f",
   "metadata": {},
   "outputs": [
    {
     "data": {
      "text/plain": [
       "<AxesSubplot:xlabel='1960', ylabel='Count'>"
      ]
     },
     "execution_count": 17,
     "metadata": {},
     "output_type": "execute_result"
    },
    {
     "data": {
      "image/png": "[encoded data removed]",
      "text/plain": [
       "<Figure size 1152x648 with 1 Axes>"
      ]
     },
     "metadata": {
      "needs_background": "light"
     },
     "output_type": "display_data"
    }
   ],
   "source": [
    "plt.figure(figsize = (16,9))\n",
    "sns.histplot(df[\"1960\"], bins = 10)"
   ]
  },
  {
   "cell_type": "code",
   "execution_count": 18,
   "id": "b0ca8298",
   "metadata": {},
   "outputs": [
    {
     "data": {
      "text/plain": [
       "<AxesSubplot:xlabel='1970', ylabel='Count'>"
      ]
     },
     "execution_count": 18,
     "metadata": {},
     "output_type": "execute_result"
    },
    {
     "data": {
      "image/png": "[encoded data removed]",
      "text/plain": [
       "<Figure size 1152x648 with 1 Axes>"
      ]
     },
     "metadata": {
      "needs_background": "light"
     },
     "output_type": "display_data"
    }
   ],
   "source": [
    "plt.figure(figsize = (16,9))\n",
    "sns.histplot(df[\"1970\"],bins = 10,color = \"red\")"
   ]
  },
  {
   "cell_type": "code",
   "execution_count": 19,
   "id": "319e5239",
   "metadata": {},
   "outputs": [
    {
     "data": {
      "text/plain": [
       "<AxesSubplot:xlabel='1980', ylabel='Count'>"
      ]
     },
     "execution_count": 19,
     "metadata": {},
     "output_type": "execute_result"
    },
    {
     "data": {
      "image/png": "[encoded data removed]",
      "text/plain": [
       "<Figure size 1152x648 with 1 Axes>"
      ]
     },
     "metadata": {
      "needs_background": "light"
     },
     "output_type": "display_data"
    }
   ],
   "source": [
    "plt.figure(figsize = (16,9))\n",
    "sns.histplot(df[\"1980\"],bins = 10,color = \"green\")"
   ]
  },
  {
   "cell_type": "code",
   "execution_count": 20,
   "id": "2225ff47",
   "metadata": {},
   "outputs": [
    {
     "data": {
      "text/plain": [
       "<AxesSubplot:xlabel='1990', ylabel='Count'>"
      ]
     },
     "execution_count": 20,
     "metadata": {},
     "output_type": "execute_result"
    },
    {
     "data": {
      "image/png": "[encoded data removed]",
      "text/plain": [
       "<Figure size 1152x648 with 1 Axes>"
      ]
     },
     "metadata": {
      "needs_background": "light"
     },
     "output_type": "display_data"
    }
   ],
   "source": [
    "plt.figure(figsize = (16,9))\n",
    "sns.histplot(df[\"1990\"],bins = 10,color = \"yellow\")"
   ]
  },
  {
   "cell_type": "code",
   "execution_count": 21,
   "id": "8e4c7df2",
   "metadata": {},
   "outputs": [
    {
     "data": {
      "text/plain": [
       "<AxesSubplot:xlabel='2000', ylabel='Count'>"
      ]
     },
     "execution_count": 21,
     "metadata": {},
     "output_type": "execute_result"
    },
    {
     "data": {
      "image/png": "[encoded data removed]",
      "text/plain": [
       "<Figure size 1152x648 with 1 Axes>"
      ]
     },
     "metadata": {
      "needs_background": "light"
     },
     "output_type": "display_data"
    }
   ],
   "source": [
    "plt.figure(figsize = (16,9))\n",
    "sns.histplot(df[\"2000\"],bins = 10,color = \"b\")"
   ]
  },
  {
   "cell_type": "code",
   "execution_count": 22,
   "id": "3da3f57a",
   "metadata": {},
   "outputs": [
    {
     "data": {
      "text/plain": [
       "<AxesSubplot:xlabel='2010', ylabel='Count'>"
      ]
     },
     "execution_count": 22,
     "metadata": {},
     "output_type": "execute_result"
    },
    {
     "data": {
      "image/png": "[encoded data removed]",
      "text/plain": [
       "<Figure size 1152x648 with 1 Axes>"
      ]
     },
     "metadata": {
      "needs_background": "light"
     },
     "output_type": "display_data"
    }
   ],
   "source": [
    "plt.figure(figsize = (16,9))\n",
    "sns.histplot(df[\"2010\"],bins = 10,color = \"pink\")"
   ]
  },
  {
   "cell_type": "code",
   "execution_count": 23,
   "id": "49fab50c",
   "metadata": {},
   "outputs": [
    {
     "data": {
      "text/plain": [
       "<AxesSubplot:xlabel='2020', ylabel='Count'>"
      ]
     },
     "execution_count": 23,
     "metadata": {},
     "output_type": "execute_result"
    },
    {
     "data": {
      "image/png": "[encoded data removed]",
      "text/plain": [
       "<Figure size 1152x648 with 1 Axes>"
      ]
     },
     "metadata": {
      "needs_background": "light"
     },
     "output_type": "display_data"
    }
   ],
   "source": [
    "plt.figure(figsize = (16,9))\n",
    "sns.histplot(df[\"2020\"],bins = 10,color = \"m\")"
   ]
  }
 ],
 "metadata": {
  "kernelspec": {
   "display_name": "Python 3 (ipykernel)",
   "language": "python",
   "name": "python3"
  },
  "language_info": {
   "codemirror_mode": {
    "name": "ipython",
    "version": 3
   },
   "file_extension": ".py",
   "mimetype": "text/x-python",
   "name": "python",
   "nbconvert_exporter": "python",
   "pygments_lexer": "ipython3",
   "version": "3.9.12"
  }
 },
 "nbformat": 4,
 "nbformat_minor": 5
}
